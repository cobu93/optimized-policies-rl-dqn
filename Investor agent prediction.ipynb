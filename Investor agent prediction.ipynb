{
 "cells": [
  {
   "cell_type": "code",
   "execution_count": 1,
   "metadata": {},
   "outputs": [],
   "source": [
    "import numpy as np\n",
    "import pandas as pd\n",
    "import torch\n",
    "import torch.nn as nn\n",
    "from scipy.special import softmax\n",
    "import math\n",
    "from tqdm.notebook import tqdm\n",
    "from matplotlib import pyplot as plt\n",
    "import os\n",
    "import torch.nn.functional as F"
   ]
  },
  {
   "cell_type": "markdown",
   "metadata": {},
   "source": [
    "# Defining constants"
   ]
  },
  {
   "cell_type": "code",
   "execution_count": 2,
   "metadata": {},
   "outputs": [],
   "source": [
    "DATASETS = [\n",
    "    '/home/uriel/Documentos/Dataset/cryptocurrencypricehistory/bitcoin_price.csv',\n",
    "    '/home/uriel/Documentos/Dataset/cryptocurrencypricehistory/ethereum_price.csv',\n",
    "    '/home/uriel/Documentos/Dataset/cryptocurrencypricehistory/litecoin_price.csv'\n",
    "    ]\n",
    "\n",
    "CHECKPOINTS_BASES = [\n",
    "    'checkpoints/bitcoin_simulator',\n",
    "    'checkpoints/ethereum_simulator',\n",
    "    'checkpoints/litecoin_simulator'\n",
    "]\n",
    "\n",
    "VALIDATION_REGISTERS = 90\n",
    "SEQUENCES_LENGTH = 30\n",
    "PREDICTIONS_LENGTH = 1\n"
   ]
  },
  {
   "cell_type": "markdown",
   "metadata": {},
   "source": [
    "# Read datasets"
   ]
  },
  {
   "cell_type": "markdown",
   "metadata": {},
   "source": [
    "# Read data"
   ]
  },
  {
   "cell_type": "code",
   "execution_count": 3,
   "metadata": {},
   "outputs": [],
   "source": [
    "dfs = []\n",
    "\n",
    "for dataset in DATASETS:\n",
    "    dfs.append(pd.read_csv(dataset))"
   ]
  },
  {
   "cell_type": "markdown",
   "metadata": {},
   "source": [
    "## Transforming data"
   ]
  },
  {
   "cell_type": "code",
   "execution_count": 4,
   "metadata": {},
   "outputs": [],
   "source": [
    "MONTHS = [ 'Jan', 'Feb', 'Mar', 'Apr', 'May', 'Jun', 'Jul', 'Aug', 'Sep', 'Oct', 'Nov', 'Dec']"
   ]
  },
  {
   "cell_type": "code",
   "execution_count": 5,
   "metadata": {},
   "outputs": [],
   "source": [
    "for idx, df in enumerate(dfs):\n",
    "    df = df.add_suffix('_{}'.format(idx))\n",
    "    df['Year'] = df['Date_{}'.format(idx)].apply(lambda x: int(x.split(',')[1]))\n",
    "    df['Month'] = df['Date_{}'.format(idx)].apply(lambda x: x.split(',')[0].split()[0])\n",
    "    df['Month'] = df['Month'].apply(lambda x: MONTHS.index(x) + 1)\n",
    "    df['Day'] = df['Date_{}'.format(idx)].apply(lambda x: int(x.split(',')[0].split()[1]))\n",
    "    dfs[idx] = df.sort_values(['Year', 'Month', 'Day'], ascending=True)"
   ]
  },
  {
   "cell_type": "markdown",
   "metadata": {},
   "source": [
    "## Join data"
   ]
  },
  {
   "cell_type": "code",
   "execution_count": 6,
   "metadata": {},
   "outputs": [
    {
     "data": {
      "text/html": [
       "<div>\n",
       "<style scoped>\n",
       "    .dataframe tbody tr th:only-of-type {\n",
       "        vertical-align: middle;\n",
       "    }\n",
       "\n",
       "    .dataframe tbody tr th {\n",
       "        vertical-align: top;\n",
       "    }\n",
       "\n",
       "    .dataframe thead th {\n",
       "        text-align: right;\n",
       "    }\n",
       "</style>\n",
       "<table border=\"1\" class=\"dataframe\">\n",
       "  <thead>\n",
       "    <tr style=\"text-align: right;\">\n",
       "      <th></th>\n",
       "      <th>Year</th>\n",
       "      <th>Month</th>\n",
       "      <th>Day</th>\n",
       "      <th>Date_0</th>\n",
       "      <th>Open_0</th>\n",
       "      <th>High_0</th>\n",
       "      <th>Low_0</th>\n",
       "      <th>Close_0</th>\n",
       "      <th>Volume_0</th>\n",
       "      <th>Market Cap_0</th>\n",
       "      <th>...</th>\n",
       "      <th>Close_1</th>\n",
       "      <th>Volume_1</th>\n",
       "      <th>Market Cap_1</th>\n",
       "      <th>Date_2</th>\n",
       "      <th>Open_2</th>\n",
       "      <th>High_2</th>\n",
       "      <th>Low_2</th>\n",
       "      <th>Close_2</th>\n",
       "      <th>Volume_2</th>\n",
       "      <th>Market Cap_2</th>\n",
       "    </tr>\n",
       "  </thead>\n",
       "  <tbody>\n",
       "    <tr>\n",
       "      <th>0</th>\n",
       "      <td>2013</td>\n",
       "      <td>4</td>\n",
       "      <td>28</td>\n",
       "      <td>Apr 28, 2013</td>\n",
       "      <td>135.30</td>\n",
       "      <td>135.98</td>\n",
       "      <td>132.10</td>\n",
       "      <td>134.21</td>\n",
       "      <td>-</td>\n",
       "      <td>1,500,520,000</td>\n",
       "      <td>...</td>\n",
       "      <td>NaN</td>\n",
       "      <td>NaN</td>\n",
       "      <td>NaN</td>\n",
       "      <td>Apr 28, 2013</td>\n",
       "      <td>4.30</td>\n",
       "      <td>4.40</td>\n",
       "      <td>4.18</td>\n",
       "      <td>4.35</td>\n",
       "      <td>-</td>\n",
       "      <td>73,773,400</td>\n",
       "    </tr>\n",
       "    <tr>\n",
       "      <th>1</th>\n",
       "      <td>2013</td>\n",
       "      <td>4</td>\n",
       "      <td>29</td>\n",
       "      <td>Apr 29, 2013</td>\n",
       "      <td>134.44</td>\n",
       "      <td>147.49</td>\n",
       "      <td>134.00</td>\n",
       "      <td>144.54</td>\n",
       "      <td>-</td>\n",
       "      <td>1,491,160,000</td>\n",
       "      <td>...</td>\n",
       "      <td>NaN</td>\n",
       "      <td>NaN</td>\n",
       "      <td>NaN</td>\n",
       "      <td>Apr 29, 2013</td>\n",
       "      <td>4.37</td>\n",
       "      <td>4.57</td>\n",
       "      <td>4.23</td>\n",
       "      <td>4.38</td>\n",
       "      <td>-</td>\n",
       "      <td>74,952,700</td>\n",
       "    </tr>\n",
       "    <tr>\n",
       "      <th>2</th>\n",
       "      <td>2013</td>\n",
       "      <td>4</td>\n",
       "      <td>30</td>\n",
       "      <td>Apr 30, 2013</td>\n",
       "      <td>144.00</td>\n",
       "      <td>146.93</td>\n",
       "      <td>134.05</td>\n",
       "      <td>139.00</td>\n",
       "      <td>-</td>\n",
       "      <td>1,597,780,000</td>\n",
       "      <td>...</td>\n",
       "      <td>NaN</td>\n",
       "      <td>NaN</td>\n",
       "      <td>NaN</td>\n",
       "      <td>Apr 30, 2013</td>\n",
       "      <td>4.40</td>\n",
       "      <td>4.57</td>\n",
       "      <td>4.17</td>\n",
       "      <td>4.30</td>\n",
       "      <td>-</td>\n",
       "      <td>75,726,800</td>\n",
       "    </tr>\n",
       "    <tr>\n",
       "      <th>3</th>\n",
       "      <td>2013</td>\n",
       "      <td>5</td>\n",
       "      <td>1</td>\n",
       "      <td>May 01, 2013</td>\n",
       "      <td>139.00</td>\n",
       "      <td>139.89</td>\n",
       "      <td>107.72</td>\n",
       "      <td>116.99</td>\n",
       "      <td>-</td>\n",
       "      <td>1,542,820,000</td>\n",
       "      <td>...</td>\n",
       "      <td>NaN</td>\n",
       "      <td>NaN</td>\n",
       "      <td>NaN</td>\n",
       "      <td>May 01, 2013</td>\n",
       "      <td>4.29</td>\n",
       "      <td>4.36</td>\n",
       "      <td>3.52</td>\n",
       "      <td>3.80</td>\n",
       "      <td>-</td>\n",
       "      <td>73,901,200</td>\n",
       "    </tr>\n",
       "    <tr>\n",
       "      <th>4</th>\n",
       "      <td>2013</td>\n",
       "      <td>5</td>\n",
       "      <td>2</td>\n",
       "      <td>May 02, 2013</td>\n",
       "      <td>116.38</td>\n",
       "      <td>125.60</td>\n",
       "      <td>92.28</td>\n",
       "      <td>105.21</td>\n",
       "      <td>-</td>\n",
       "      <td>1,292,190,000</td>\n",
       "      <td>...</td>\n",
       "      <td>NaN</td>\n",
       "      <td>NaN</td>\n",
       "      <td>NaN</td>\n",
       "      <td>May 02, 2013</td>\n",
       "      <td>3.78</td>\n",
       "      <td>4.04</td>\n",
       "      <td>3.01</td>\n",
       "      <td>3.37</td>\n",
       "      <td>-</td>\n",
       "      <td>65,242,700</td>\n",
       "    </tr>\n",
       "  </tbody>\n",
       "</table>\n",
       "<p>5 rows × 24 columns</p>\n",
       "</div>"
      ],
      "text/plain": [
       "   Year  Month  Day        Date_0  Open_0  High_0   Low_0  Close_0 Volume_0  \\\n",
       "0  2013      4   28  Apr 28, 2013  135.30  135.98  132.10   134.21        -   \n",
       "1  2013      4   29  Apr 29, 2013  134.44  147.49  134.00   144.54        -   \n",
       "2  2013      4   30  Apr 30, 2013  144.00  146.93  134.05   139.00        -   \n",
       "3  2013      5    1  May 01, 2013  139.00  139.89  107.72   116.99        -   \n",
       "4  2013      5    2  May 02, 2013  116.38  125.60   92.28   105.21        -   \n",
       "\n",
       "    Market Cap_0  ... Close_1  Volume_1  Market Cap_1        Date_2  Open_2  \\\n",
       "0  1,500,520,000  ...     NaN       NaN           NaN  Apr 28, 2013    4.30   \n",
       "1  1,491,160,000  ...     NaN       NaN           NaN  Apr 29, 2013    4.37   \n",
       "2  1,597,780,000  ...     NaN       NaN           NaN  Apr 30, 2013    4.40   \n",
       "3  1,542,820,000  ...     NaN       NaN           NaN  May 01, 2013    4.29   \n",
       "4  1,292,190,000  ...     NaN       NaN           NaN  May 02, 2013    3.78   \n",
       "\n",
       "  High_2 Low_2 Close_2  Volume_2  Market Cap_2  \n",
       "0   4.40  4.18    4.35         -    73,773,400  \n",
       "1   4.57  4.23    4.38         -    74,952,700  \n",
       "2   4.57  4.17    4.30         -    75,726,800  \n",
       "3   4.36  3.52    3.80         -    73,901,200  \n",
       "4   4.04  3.01    3.37         -    65,242,700  \n",
       "\n",
       "[5 rows x 24 columns]"
      ]
     },
     "execution_count": 6,
     "metadata": {},
     "output_type": "execute_result"
    }
   ],
   "source": [
    "df = pd.concat([df.set_index(['Year', 'Month', 'Day']) for df in dfs], axis=1).reset_index()\n",
    "df.head()"
   ]
  },
  {
   "cell_type": "code",
   "execution_count": 7,
   "metadata": {},
   "outputs": [],
   "source": [
    "df = df[~df.isnull().any(axis=1)]"
   ]
  },
  {
   "cell_type": "code",
   "execution_count": 8,
   "metadata": {},
   "outputs": [
    {
     "data": {
      "text/plain": [
       "929"
      ]
     },
     "execution_count": 8,
     "metadata": {},
     "output_type": "execute_result"
    }
   ],
   "source": [
    "len(df)"
   ]
  },
  {
   "cell_type": "markdown",
   "metadata": {},
   "source": [
    "## Partitioning data"
   ]
  },
  {
   "cell_type": "code",
   "execution_count": 9,
   "metadata": {},
   "outputs": [],
   "source": [
    "columns = []\n",
    "\n",
    "for idx in range(len(DATASETS)):\n",
    "    columns.extend(['Open_{}'.format(idx), 'Close_{}'.format(idx)])\n",
    "    \n",
    "\n",
    "values = df[columns].values"
   ]
  },
  {
   "cell_type": "code",
   "execution_count": 10,
   "metadata": {},
   "outputs": [
    {
     "name": "stdout",
     "output_type": "stream",
     "text": [
      "Train data size: (839, 6)\n",
      "Test data size: (90, 6)\n"
     ]
    }
   ],
   "source": [
    "split_idx = -VALIDATION_REGISTERS\n",
    "\n",
    "train = values[:split_idx]\n",
    "test = values[split_idx:]\n",
    "\n",
    "print('Train data size: {}'.format(train.shape))\n",
    "print('Test data size: {}'.format(test.shape))"
   ]
  },
  {
   "cell_type": "code",
   "execution_count": 11,
   "metadata": {},
   "outputs": [
    {
     "name": "stdout",
     "output_type": "stream",
     "text": [
      "Train NAN values:0 \t Test NAN values:0\n"
     ]
    }
   ],
   "source": [
    "print('Train NAN values:{} \\t Test NAN values:{}'.format(\n",
    "    np.count_nonzero(np.isnan(train)),\n",
    "    np.count_nonzero(np.isnan(test))\n",
    "))"
   ]
  },
  {
   "cell_type": "markdown",
   "metadata": {},
   "source": [
    "## Build sequences"
   ]
  },
  {
   "cell_type": "code",
   "execution_count": 12,
   "metadata": {},
   "outputs": [],
   "source": [
    "def build_sequences(data, sequences_length, predictions_length):\n",
    "    inputs = []\n",
    "    outputs = []\n",
    "    \n",
    "    for idx in range(len(data) - sequences_length - predictions_length):\n",
    "        # Preprocess iputs ad outputs\n",
    "        # Normalizing\n",
    "        inps = data[idx: idx + sequences_length]\n",
    "        outs = data[idx + sequences_length: idx + sequences_length + predictions_length]\n",
    "        # Inputs\n",
    "        inputs.append( inps )\n",
    "        # Outputs\n",
    "        outputs.append( outs )\n",
    "        \n",
    "    return np.array(inputs), np.array(outputs)"
   ]
  },
  {
   "cell_type": "code",
   "execution_count": 13,
   "metadata": {},
   "outputs": [],
   "source": [
    "x_train = []\n",
    "y_train = []\n",
    "\n",
    "x_test = []\n",
    "y_test = []\n",
    "\n",
    "for idx in range(len(DATASETS)):\n",
    "    x_train_seq, y_train_seq = build_sequences(train[:, 2 * idx: 2 * idx + 2], SEQUENCES_LENGTH, PREDICTIONS_LENGTH )\n",
    "    x_train.append(x_train_seq)\n",
    "    y_train.append(y_train_seq)\n",
    "    \n",
    "    x_test_seq, y_test_seq = build_sequences(test[:, 2 * idx: 2 * idx + 2], SEQUENCES_LENGTH, PREDICTIONS_LENGTH )\n",
    "    x_test.append(x_test_seq)\n",
    "    y_test.append(y_test_seq)\n",
    "    "
   ]
  },
  {
   "cell_type": "markdown",
   "metadata": {},
   "source": [
    "## Normalizing data"
   ]
  },
  {
   "cell_type": "code",
   "execution_count": 14,
   "metadata": {},
   "outputs": [],
   "source": [
    "def normalize_data(x, y):\n",
    "    \n",
    "    x = x[:, :, 1] /  x[:, :, 0]\n",
    "    y = y[:, :, 1] / y[:, :, 0]\n",
    "    \n",
    "        \n",
    "    x = np.expand_dims(x, axis=-1)\n",
    "    y = np.expand_dims(y, axis=-1)\n",
    "    \n",
    "    \n",
    "    return x, y"
   ]
  },
  {
   "cell_type": "code",
   "execution_count": 15,
   "metadata": {},
   "outputs": [],
   "source": [
    "for idx in range(len(DATASETS)):\n",
    "    x_train[idx], y_train[idx] = normalize_data(x_train[idx], y_train[idx])\n",
    "    x_test[idx], y_test[idx] = normalize_data(x_test[idx], y_test[idx])"
   ]
  },
  {
   "cell_type": "code",
   "execution_count": 16,
   "metadata": {},
   "outputs": [
    {
     "name": "stdout",
     "output_type": "stream",
     "text": [
      "--------------- Dataset 0 -------------------\n",
      "[[[1.00301356]\n",
      "  [0.93300922]\n",
      "  [1.01516544]\n",
      "  [0.99619557]\n",
      "  [1.02288719]\n",
      "  [0.98440503]\n",
      "  [0.9921106 ]\n",
      "  [1.00586832]\n",
      "  [0.98501111]\n",
      "  [0.98716921]\n",
      "  [0.998027  ]\n",
      "  [0.81836157]\n",
      "  [1.00447556]\n",
      "  [1.03724108]\n",
      "  [0.98818781]\n",
      "  [0.99024327]\n",
      "  [0.99040715]\n",
      "  [0.9228004 ]\n",
      "  [1.05493407]\n",
      "  [1.01688581]\n",
      "  [0.99433754]\n",
      "  [1.02981753]\n",
      "  [0.99235586]\n",
      "  [0.99504132]\n",
      "  [1.00414648]\n",
      "  [0.99070616]\n",
      "  [1.00548173]\n",
      "  [0.99066806]\n",
      "  [1.01355514]\n",
      "  [1.02093831]]\n",
      "\n",
      " [[0.93300922]\n",
      "  [1.01516544]\n",
      "  [0.99619557]\n",
      "  [1.02288719]\n",
      "  [0.98440503]\n",
      "  [0.9921106 ]\n",
      "  [1.00586832]\n",
      "  [0.98501111]\n",
      "  [0.98716921]\n",
      "  [0.998027  ]\n",
      "  [0.81836157]\n",
      "  [1.00447556]\n",
      "  [1.03724108]\n",
      "  [0.98818781]\n",
      "  [0.99024327]\n",
      "  [0.99040715]\n",
      "  [0.9228004 ]\n",
      "  [1.05493407]\n",
      "  [1.01688581]\n",
      "  [0.99433754]\n",
      "  [1.02981753]\n",
      "  [0.99235586]\n",
      "  [0.99504132]\n",
      "  [1.00414648]\n",
      "  [0.99070616]\n",
      "  [1.00548173]\n",
      "  [0.99066806]\n",
      "  [1.01355514]\n",
      "  [1.02093831]\n",
      "  [1.02116064]]\n",
      "\n",
      " [[1.01516544]\n",
      "  [0.99619557]\n",
      "  [1.02288719]\n",
      "  [0.98440503]\n",
      "  [0.9921106 ]\n",
      "  [1.00586832]\n",
      "  [0.98501111]\n",
      "  [0.98716921]\n",
      "  [0.998027  ]\n",
      "  [0.81836157]\n",
      "  [1.00447556]\n",
      "  [1.03724108]\n",
      "  [0.98818781]\n",
      "  [0.99024327]\n",
      "  [0.99040715]\n",
      "  [0.9228004 ]\n",
      "  [1.05493407]\n",
      "  [1.01688581]\n",
      "  [0.99433754]\n",
      "  [1.02981753]\n",
      "  [0.99235586]\n",
      "  [0.99504132]\n",
      "  [1.00414648]\n",
      "  [0.99070616]\n",
      "  [1.00548173]\n",
      "  [0.99066806]\n",
      "  [1.01355514]\n",
      "  [1.02093831]\n",
      "  [1.02116064]\n",
      "  [0.99966657]]] [[[1.02116064]]\n",
      "\n",
      " [[0.99966657]]\n",
      "\n",
      " [[1.01567646]]]\n",
      "--------------- Dataset 1 -------------------\n",
      "[[[0.97879859]\n",
      "  [0.27000896]\n",
      "  [0.99399691]\n",
      "  [0.99223938]\n",
      "  [1.51111375]\n",
      "  [1.1509434 ]\n",
      "  [1.5       ]\n",
      "  [1.01104972]\n",
      "  [0.93888889]\n",
      "  [0.93452381]\n",
      "  [0.75949367]\n",
      "  [0.89344262]\n",
      "  [1.07692308]\n",
      "  [1.168     ]\n",
      "  [0.94594595]\n",
      "  [0.98571429]\n",
      "  [0.97826087]\n",
      "  [0.91111111]\n",
      "  [0.92682927]\n",
      "  [1.02654867]\n",
      "  [0.98290598]\n",
      "  [1.03478261]\n",
      "  [0.99159664]\n",
      "  [1.11864407]\n",
      "  [1.03030303]\n",
      "  [1.        ]\n",
      "  [0.95555556]\n",
      "  [0.96923077]\n",
      "  [1.00793651]\n",
      "  [1.046875  ]]\n",
      "\n",
      " [[0.27000896]\n",
      "  [0.99399691]\n",
      "  [0.99223938]\n",
      "  [1.51111375]\n",
      "  [1.1509434 ]\n",
      "  [1.5       ]\n",
      "  [1.01104972]\n",
      "  [0.93888889]\n",
      "  [0.93452381]\n",
      "  [0.75949367]\n",
      "  [0.89344262]\n",
      "  [1.07692308]\n",
      "  [1.168     ]\n",
      "  [0.94594595]\n",
      "  [0.98571429]\n",
      "  [0.97826087]\n",
      "  [0.91111111]\n",
      "  [0.92682927]\n",
      "  [1.02654867]\n",
      "  [0.98290598]\n",
      "  [1.03478261]\n",
      "  [0.99159664]\n",
      "  [1.11864407]\n",
      "  [1.03030303]\n",
      "  [1.        ]\n",
      "  [0.95555556]\n",
      "  [0.96923077]\n",
      "  [1.00793651]\n",
      "  [1.046875  ]\n",
      "  [0.97014925]]\n",
      "\n",
      " [[0.99399691]\n",
      "  [0.99223938]\n",
      "  [1.51111375]\n",
      "  [1.1509434 ]\n",
      "  [1.5       ]\n",
      "  [1.01104972]\n",
      "  [0.93888889]\n",
      "  [0.93452381]\n",
      "  [0.75949367]\n",
      "  [0.89344262]\n",
      "  [1.07692308]\n",
      "  [1.168     ]\n",
      "  [0.94594595]\n",
      "  [0.98571429]\n",
      "  [0.97826087]\n",
      "  [0.91111111]\n",
      "  [0.92682927]\n",
      "  [1.02654867]\n",
      "  [0.98290598]\n",
      "  [1.03478261]\n",
      "  [0.99159664]\n",
      "  [1.11864407]\n",
      "  [1.03030303]\n",
      "  [1.        ]\n",
      "  [0.95555556]\n",
      "  [0.96923077]\n",
      "  [1.00793651]\n",
      "  [1.046875  ]\n",
      "  [0.97014925]\n",
      "  [0.96153846]]] [[[0.97014925]]\n",
      "\n",
      " [[0.96153846]]\n",
      "\n",
      " [[0.992     ]]]\n",
      "--------------- Dataset 2 -------------------\n",
      "[[[1.03694581]\n",
      "  [0.91232227]\n",
      "  [1.015625  ]\n",
      "  [1.01282051]\n",
      "  [1.05316456]\n",
      "  [0.96376812]\n",
      "  [0.97732997]\n",
      "  [1.03865979]\n",
      "  [0.97761194]\n",
      "  [1.00508906]\n",
      "  [1.00505051]\n",
      "  [0.8718593 ]\n",
      "  [1.        ]\n",
      "  [1.04034582]\n",
      "  [0.99166667]\n",
      "  [0.98595506]\n",
      "  [0.96581197]\n",
      "  [0.8820059 ]\n",
      "  [0.98657718]\n",
      "  [1.        ]\n",
      "  [0.97288136]\n",
      "  [1.02464789]\n",
      "  [0.98630137]\n",
      "  [0.99303136]\n",
      "  [0.99649123]\n",
      "  [0.98947368]\n",
      "  [0.9929078 ]\n",
      "  [0.93928571]\n",
      "  [1.02272727]\n",
      "  [1.08148148]]\n",
      "\n",
      " [[0.91232227]\n",
      "  [1.015625  ]\n",
      "  [1.01282051]\n",
      "  [1.05316456]\n",
      "  [0.96376812]\n",
      "  [0.97732997]\n",
      "  [1.03865979]\n",
      "  [0.97761194]\n",
      "  [1.00508906]\n",
      "  [1.00505051]\n",
      "  [0.8718593 ]\n",
      "  [1.        ]\n",
      "  [1.04034582]\n",
      "  [0.99166667]\n",
      "  [0.98595506]\n",
      "  [0.96581197]\n",
      "  [0.8820059 ]\n",
      "  [0.98657718]\n",
      "  [1.        ]\n",
      "  [0.97288136]\n",
      "  [1.02464789]\n",
      "  [0.98630137]\n",
      "  [0.99303136]\n",
      "  [0.99649123]\n",
      "  [0.98947368]\n",
      "  [0.9929078 ]\n",
      "  [0.93928571]\n",
      "  [1.02272727]\n",
      "  [1.08148148]\n",
      "  [1.04452055]]\n",
      "\n",
      " [[1.015625  ]\n",
      "  [1.01282051]\n",
      "  [1.05316456]\n",
      "  [0.96376812]\n",
      "  [0.97732997]\n",
      "  [1.03865979]\n",
      "  [0.97761194]\n",
      "  [1.00508906]\n",
      "  [1.00505051]\n",
      "  [0.8718593 ]\n",
      "  [1.        ]\n",
      "  [1.04034582]\n",
      "  [0.99166667]\n",
      "  [0.98595506]\n",
      "  [0.96581197]\n",
      "  [0.8820059 ]\n",
      "  [0.98657718]\n",
      "  [1.        ]\n",
      "  [0.97288136]\n",
      "  [1.02464789]\n",
      "  [0.98630137]\n",
      "  [0.99303136]\n",
      "  [0.99649123]\n",
      "  [0.98947368]\n",
      "  [0.9929078 ]\n",
      "  [0.93928571]\n",
      "  [1.02272727]\n",
      "  [1.08148148]\n",
      "  [1.04452055]\n",
      "  [1.00328947]]] [[[1.04452055]]\n",
      "\n",
      " [[1.00328947]]\n",
      "\n",
      " [[1.        ]]]\n"
     ]
    }
   ],
   "source": [
    "for idx in range(len(DATASETS)):\n",
    "    print('--------------- Dataset {} -------------------'.format(idx))\n",
    "    print(x_train[idx][:3], y_train[idx][:3])"
   ]
  },
  {
   "cell_type": "markdown",
   "metadata": {},
   "source": [
    "# Definitions for agent"
   ]
  },
  {
   "cell_type": "markdown",
   "metadata": {},
   "source": [
    "## Simulators components"
   ]
  },
  {
   "cell_type": "code",
   "execution_count": 17,
   "metadata": {},
   "outputs": [],
   "source": [
    "class PricePredictor(nn.Module):        \n",
    "    def __init__(self, dropout=0.2):        \n",
    "        super(PricePredictor, self).__init__()\n",
    "        \n",
    "        self.batch_norm_0 = nn.BatchNorm1d(SEQUENCES_LENGTH)\n",
    "        self.rnn_0 = nn.GRU(x_train[0].shape[2], 35, batch_first=True, num_layers=1) \n",
    "        self.linear_0 = nn.Linear(35, 64)\n",
    "        #self.activation_0 = nn.Tanh()\n",
    "        self.dropout_0 = nn.Dropout(dropout)\n",
    "        \n",
    "        self.batch_norm_1 = nn.BatchNorm1d(SEQUENCES_LENGTH)\n",
    "        self.rnn_1 = nn.GRU(64, 35, batch_first=True, num_layers=1) \n",
    "        self.linear_1 = nn.Linear(35, y_train[0].shape[2])\n",
    "        self.activation_1 = nn.Sigmoid()        \n",
    "        \n",
    "    def forward(self, src):  \n",
    "        output = src\n",
    "        output = self.batch_norm_0(output)\n",
    "        output, _ = self.rnn_0(output)\n",
    "        output = self.linear_0(output)\n",
    "        #output = self.activation_0(output)\n",
    "        output = self.dropout_0(output)\n",
    "        \n",
    "        \n",
    "        output = self.batch_norm_1(output)\n",
    "        output, _ = self.rnn_1(output)\n",
    "        output = self.linear_1(output[:, -PREDICTIONS_LENGTH:])\n",
    "        output = self.activation_1(output)\n",
    "        \n",
    "        # output = output.flatten()\n",
    "        \n",
    "        return output"
   ]
  },
  {
   "cell_type": "code",
   "execution_count": 18,
   "metadata": {},
   "outputs": [],
   "source": [
    "MODEL_STATE_DICT = 'model_state_dict'\n",
    "OPTIMIZER_STATE_DICT = 'optimizer_state_dict'\n",
    "EPOCH_STATE = 'epoch'\n",
    "TRAIN_LOSS_HISTORY_STATE = 'train_loss_history'\n",
    "VAL_LOSS_HISTORY_STATE = 'val_loss_history'\n",
    "BEST_VAL_LOSS_STATE = 'best_val_loss'"
   ]
  },
  {
   "cell_type": "code",
   "execution_count": 19,
   "metadata": {},
   "outputs": [],
   "source": [
    "def load_model_state(filename, model, optimizer=None):\n",
    "    checkpoint = torch.load(filename)\n",
    "    model.load_state_dict(checkpoint[MODEL_STATE_DICT])\n",
    "    if optimizer is not None:\n",
    "        optimizer.load_state_dict(checkpoint[OPTIMIZER_STATE_DICT])\n",
    "    last_epoch = checkpoint[EPOCH_STATE]\n",
    "    train_loss_history = checkpoint[TRAIN_LOSS_HISTORY_STATE]\n",
    "    val_loss_history = checkpoint[VAL_LOSS_HISTORY_STATE]\n",
    "    best_val_loss = checkpoint[BEST_VAL_LOSS_STATE]\n",
    "\n",
    "    return model, optimizer, last_epoch, train_loss_history, val_loss_history, best_val_loss"
   ]
  },
  {
   "cell_type": "code",
   "execution_count": 20,
   "metadata": {},
   "outputs": [],
   "source": [
    "def save_model_state(filename, model, optimizer, epoch, train_loss_history, val_loss_history, best_val_loss):\n",
    "    torch.save({\n",
    "        MODEL_STATE_DICT: model.state_dict(),\n",
    "        OPTIMIZER_STATE_DICT: optimizer.state_dict(),\n",
    "        EPOCH_STATE: epoch,\n",
    "        TRAIN_LOSS_HISTORY_STATE: train_loss_history,\n",
    "        VAL_LOSS_HISTORY_STATE: val_loss_history,\n",
    "        BEST_VAL_LOSS_STATE: best_val_loss\n",
    "    }, filename)"
   ]
  },
  {
   "cell_type": "markdown",
   "metadata": {},
   "source": [
    "## Agent components"
   ]
  },
  {
   "cell_type": "code",
   "execution_count": 21,
   "metadata": {},
   "outputs": [],
   "source": [
    "class Simulator():\n",
    "    def __init__(self):\n",
    "        pass\n",
    "    \n",
    "    def get_cost(self):\n",
    "        raise NotImplementedError('get_next_cost not implemented yet')   "
   ]
  },
  {
   "cell_type": "code",
   "execution_count": 22,
   "metadata": {},
   "outputs": [],
   "source": [
    "class PriceSimulator(Simulator):\n",
    "    def __init__(self, model):\n",
    "        super(PriceSimulator, self).__init__()\n",
    "        self.model = model\n",
    "        self.model.eval()\n",
    "        self.invested_fractions = 0\n",
    "        \n",
    "    def get_ratio(self, last_variations):\n",
    "        variations = last_variations / last_variations[0, 0, 0] - 1\n",
    "        variations = torch.from_numpy( variations ).float().to(device)\n",
    "        \n",
    "        with torch.no_grad():\n",
    "            \n",
    "            prediction = self.model(variations).cpu().numpy()\n",
    "            prediction = prediction.squeeze(axis=(1, 2))\n",
    "            #prediction = prediction + 1) * last_variations[0, 0, 0]\n",
    "            # Scale variation to [0, 2]\n",
    "            prediction = prediction * 2\n",
    "            \n",
    "        \n",
    "        return prediction"
   ]
  },
  {
   "cell_type": "code",
   "execution_count": 23,
   "metadata": {},
   "outputs": [],
   "source": [
    "class Environment():\n",
    "    def __init__(self, x, y, simulators, batch_size=10, initial_amount=1000, max_loss=0.3):\n",
    "        self.x = x\n",
    "        self.y = y\n",
    "        self.simulators = simulators\n",
    "        self.initial_amount = initial_amount\n",
    "        self.current_amount = None\n",
    "        self.batch_size = batch_size\n",
    "        self.min_amount = initial_amount * (1 - max_loss)\n",
    "        \n",
    "        self.indices = None\n",
    "        self.state = None        \n",
    "        self.steps = None\n",
    "        \n",
    "    def restart(self):\n",
    "        self.steps = 0\n",
    "        self.current_amount = self.initial_amount\n",
    "        self.indices = np.arange(0, self.batch_size)\n",
    "        predictions = []\n",
    "        \n",
    "        for idx, simulator in enumerate(self.simulators):\n",
    "            prediction = simulator.get_ratio(self.x[idx][self.indices])\n",
    "            predictions.append(prediction)\n",
    "            \n",
    "        predictions.append(np.ones(predictions[0].shape))\n",
    "                \n",
    "        predictions = np.array(predictions).T\n",
    "        invested = np.array([[0] * len(simulators) + [self.initial_amount]] * self.batch_size)\n",
    "        amounts = np.array([self.initial_amount] * self.batch_size)\n",
    "        self.state = (predictions, invested, amounts)\n",
    "        return self.state\n",
    "    \n",
    "    def naive_evaluate(self, actions):\n",
    "        repeated = np.repeat(actions, self.batch_size, axis=0).reshape(\n",
    "                    actions.shape[0], \n",
    "                    self.batch_size, \n",
    "                    actions.shape[1]\n",
    "                    )\n",
    "        \n",
    "        \n",
    "        q_values = []\n",
    "        \n",
    "        for action in repeated:\n",
    "            q_value = self.get_fee(self.state, action)\n",
    "            next_state = self.get_next_state(action)\n",
    "            q_value = q_value + self.get_cost(next_state)\n",
    "            q_values.append(q_value)\n",
    "            \n",
    "        return np.array(q_values)    \n",
    "            \n",
    "    \n",
    "    def evaluate(self, actions):\n",
    "        \n",
    "        repeated = np.repeat(actions, self.batch_size, axis=0).reshape(\n",
    "                    actions.shape[0], \n",
    "                    self.batch_size, \n",
    "                    actions.shape[1]\n",
    "                    )\n",
    "        \n",
    "        fees = (repeated[:, :, :-1] > 0).sum(axis=-1)\n",
    "        \n",
    "        next_states = np.stack( [self.state[2]] * actions.shape[0] )\n",
    "        \n",
    "        asset_investment = repeated * next_states[:, :, np.newaxis]\n",
    "        \n",
    "        real_ratios = np.array([ \n",
    "            self.y[idx][self.indices].squeeze((1, 2)) for idx in range(len(simulators)) ] + \n",
    "            [np.ones(self.y[0][self.indices].shape).squeeze((1, 2))]\n",
    "        ).T\n",
    "        \n",
    "        real_ratios = np.stack([real_ratios] * actions.shape[0])\n",
    "        costs = next_states - (asset_investment * real_ratios).sum(axis=-1)\n",
    "        \n",
    "        q_values = fees + costs\n",
    "        \n",
    "        del repeated\n",
    "        del fees\n",
    "        del next_states\n",
    "        del asset_investment\n",
    "        del real_ratios\n",
    "        del costs\n",
    "        \n",
    "        return q_values\n",
    "    \n",
    "    def step(self, action):\n",
    "        self.steps += 1\n",
    "        \n",
    "        q_value = self.get_fee(self.state, action) \n",
    "        next_state = self.get_next_state(action)\n",
    "        q_value = q_value + self.get_cost(next_state)        \n",
    "        self.state, self.indices = self.update_state(next_state, q_value)\n",
    "        \n",
    "        done = (self.state[2] < self.min_amount).sum() > 0 or (self.steps + 1) * self.batch_size >= self.x[0].shape[0]\n",
    "        \n",
    "        return self.state, q_value, done, self.steps\n",
    "        \n",
    "    def get_next_state(self, action):        \n",
    "        invested = action * self.state[2][:, np.newaxis]\n",
    "        return (self.state[0], np.array(invested), self.state[2])\n",
    "    \n",
    "    def update_state(self, next_state, q_value):\n",
    "        indices = np.arange(\n",
    "            self.steps * self.batch_size, \n",
    "            min((self.steps + 1) * self.batch_size, self.x[0].shape[0])\n",
    "        )\n",
    "        predictions = []\n",
    "        \n",
    "        for idx, simulator in enumerate(self.simulators):\n",
    "            prediction = simulator.get_ratio(self.x[idx][indices])\n",
    "            predictions.append(prediction)\n",
    "        \n",
    "        predictions.append(np.ones(predictions[0].shape))\n",
    "        predictions = np.array(predictions).T\n",
    "        amount = self.state[2] - q_value\n",
    "        \n",
    "        return (predictions, next_state[1], amount), indices\n",
    "        \n",
    "            \n",
    "    #Dollar per movement\n",
    "    def get_fee(self, state, action):\n",
    "        return (action[:, :-1] > 0).sum(axis=-1)\n",
    "        \n",
    "    def get_cost(self, next_state): \n",
    "        \n",
    "        real_ratios = np.array([ \n",
    "            self.y[idx][self.indices].squeeze() for idx in range(len(simulators)) ] + \n",
    "            [np.ones(self.y[0][self.indices].shape).squeeze()]\n",
    "        )\n",
    "        \n",
    "        return next_state[2] - (next_state[1] * real_ratios.T).sum(axis=-1)"
   ]
  },
  {
   "cell_type": "markdown",
   "metadata": {},
   "source": [
    "## Environment"
   ]
  },
  {
   "cell_type": "code",
   "execution_count": 24,
   "metadata": {},
   "outputs": [],
   "source": [
    "if torch.cuda.is_available():\n",
    "    device = torch.device('cuda')\n",
    "else:\n",
    "    device = torch.device('cpu')"
   ]
  },
  {
   "cell_type": "code",
   "execution_count": 25,
   "metadata": {},
   "outputs": [],
   "source": [
    "simulators = []\n",
    "\n",
    "for checkpoint in CHECKPOINTS_BASES:\n",
    "    model, _, _, _, _, _ = load_model_state(os.path.join(checkpoint, 'best.pt'), PricePredictor())\n",
    "    model.to(device)\n",
    "    simulators.append(PriceSimulator(model))"
   ]
  },
  {
   "cell_type": "code",
   "execution_count": 26,
   "metadata": {},
   "outputs": [],
   "source": [
    "STEP = 100\n",
    "actions = []\n",
    "\n",
    "for i in range(0, 100 + STEP, STEP):\n",
    "    for j in range(0, 100 + STEP, STEP):\n",
    "        for k in range(0, 100 + STEP, STEP):\n",
    "            for l in range(0, 100 + STEP, STEP):\n",
    "                if (i + j + k + l) == 100:\n",
    "                    actions.append([i / 100, j / 100, k / 100, l / 100])"
   ]
  },
  {
   "cell_type": "code",
   "execution_count": 27,
   "metadata": {},
   "outputs": [],
   "source": [
    "actions = np.array(actions)"
   ]
  },
  {
   "cell_type": "code",
   "execution_count": 28,
   "metadata": {},
   "outputs": [
    {
     "data": {
      "text/plain": [
       "(4, 4)"
      ]
     },
     "execution_count": 28,
     "metadata": {},
     "output_type": "execute_result"
    }
   ],
   "source": [
    "actions.shape"
   ]
  },
  {
   "cell_type": "code",
   "execution_count": 31,
   "metadata": {},
   "outputs": [
    {
     "data": {
      "text/plain": [
       "(array([[1.2894907, 1.0272001, 1.0842849, 1.       ]]),\n",
       " array([[   0,    0,    0, 1000]]),\n",
       " array([1000]))"
      ]
     },
     "execution_count": 31,
     "metadata": {},
     "output_type": "execute_result"
    }
   ],
   "source": [
    "INITIAL_AMOUNT = 1000\n",
    "Q_FACTOR_SCALER = 100\n",
    "\n",
    "env = Environment(x_test, y_test, simulators, batch_size=1, initial_amount=INITIAL_AMOUNT, max_loss=1)\n",
    "state = env.restart()\n",
    "state"
   ]
  },
  {
   "cell_type": "code",
   "execution_count": 32,
   "metadata": {},
   "outputs": [
    {
     "data": {
      "text/plain": [
       "array([[1.2894907, 1.0272001, 1.0842849, 1.       ]])"
      ]
     },
     "execution_count": 32,
     "metadata": {},
     "output_type": "execute_result"
    }
   ],
   "source": [
    "state[0]"
   ]
  },
  {
   "cell_type": "code",
   "execution_count": 33,
   "metadata": {},
   "outputs": [
    {
     "data": {
      "text/plain": [
       "array([[0., 0., 0., 1.],\n",
       "       [0., 0., 1., 0.],\n",
       "       [0., 1., 0., 0.],\n",
       "       [1., 0., 0., 0.]])"
      ]
     },
     "execution_count": 33,
     "metadata": {},
     "output_type": "execute_result"
    }
   ],
   "source": [
    "actions"
   ]
  },
  {
   "cell_type": "code",
   "execution_count": 34,
   "metadata": {},
   "outputs": [],
   "source": [
    "state_action_map = {0:3, 1:2, 2:1, 1:2}"
   ]
  },
  {
   "cell_type": "code",
   "execution_count": 36,
   "metadata": {},
   "outputs": [
    {
     "data": {
      "text/plain": [
       "0"
      ]
     },
     "execution_count": 36,
     "metadata": {},
     "output_type": "execute_result"
    }
   ],
   "source": [
    "np.argmax(state[0])"
   ]
  },
  {
   "cell_type": "code",
   "execution_count": 38,
   "metadata": {},
   "outputs": [
    {
     "data": {
      "text/plain": [
       "array([1., 0., 0., 0.])"
      ]
     },
     "execution_count": 38,
     "metadata": {},
     "output_type": "execute_result"
    }
   ],
   "source": [
    "action = actions[state_action_map[np.argmax(state[0])]]\n",
    "action"
   ]
  },
  {
   "cell_type": "markdown",
   "metadata": {},
   "source": [
    "## Real"
   ]
  },
  {
   "cell_type": "code",
   "execution_count": 40,
   "metadata": {},
   "outputs": [
    {
     "ename": "TypeError",
     "evalue": "list indices must be integers or slices, not tuple",
     "output_type": "error",
     "traceback": [
      "\u001b[0;31m---------------------------------------------------------------------------\u001b[0m",
      "\u001b[0;31mTypeError\u001b[0m                                 Traceback (most recent call last)",
      "\u001b[0;32m<ipython-input-40-4d5db280b50b>\u001b[0m in \u001b[0;36m<module>\u001b[0;34m\u001b[0m\n\u001b[1;32m      7\u001b[0m \u001b[0;32mfor\u001b[0m \u001b[0mepoch\u001b[0m \u001b[0;32min\u001b[0m \u001b[0mrange\u001b[0m\u001b[0;34m(\u001b[0m\u001b[0mx_test\u001b[0m\u001b[0;34m[\u001b[0m\u001b[0;36m0\u001b[0m\u001b[0;34m]\u001b[0m\u001b[0;34m.\u001b[0m\u001b[0mshape\u001b[0m\u001b[0;34m[\u001b[0m\u001b[0;36m0\u001b[0m\u001b[0;34m]\u001b[0m\u001b[0;34m)\u001b[0m\u001b[0;34m:\u001b[0m\u001b[0;34m\u001b[0m\u001b[0;34m\u001b[0m\u001b[0m\n\u001b[1;32m      8\u001b[0m     \u001b[0maction\u001b[0m \u001b[0;34m=\u001b[0m \u001b[0mactions\u001b[0m\u001b[0;34m[\u001b[0m\u001b[0mstate_action_map\u001b[0m\u001b[0;34m[\u001b[0m\u001b[0mnp\u001b[0m\u001b[0;34m.\u001b[0m\u001b[0margmax\u001b[0m\u001b[0;34m(\u001b[0m\u001b[0mstate\u001b[0m\u001b[0;34m[\u001b[0m\u001b[0;36m0\u001b[0m\u001b[0;34m]\u001b[0m\u001b[0;34m)\u001b[0m\u001b[0;34m]\u001b[0m\u001b[0;34m]\u001b[0m\u001b[0;34m\u001b[0m\u001b[0;34m\u001b[0m\u001b[0m\n\u001b[0;32m----> 9\u001b[0;31m     \u001b[0mstate\u001b[0m\u001b[0;34m,\u001b[0m \u001b[0mq_value\u001b[0m\u001b[0;34m,\u001b[0m \u001b[0mdone\u001b[0m\u001b[0;34m,\u001b[0m \u001b[0mstep\u001b[0m \u001b[0;34m=\u001b[0m \u001b[0menv\u001b[0m\u001b[0;34m.\u001b[0m\u001b[0mstep\u001b[0m\u001b[0;34m(\u001b[0m\u001b[0;34m[\u001b[0m\u001b[0maction\u001b[0m\u001b[0;34m]\u001b[0m\u001b[0;34m)\u001b[0m\u001b[0;34m\u001b[0m\u001b[0;34m\u001b[0m\u001b[0m\n\u001b[0m\u001b[1;32m     10\u001b[0m \u001b[0;34m\u001b[0m\u001b[0m\n\u001b[1;32m     11\u001b[0m     print('Day:{}    Action:{}    Current amount:{}'.format(\n",
      "\u001b[0;32m<ipython-input-23-d99cef2ad7aa>\u001b[0m in \u001b[0;36mstep\u001b[0;34m(self, action)\u001b[0m\n\u001b[1;32m     86\u001b[0m         \u001b[0mself\u001b[0m\u001b[0;34m.\u001b[0m\u001b[0msteps\u001b[0m \u001b[0;34m+=\u001b[0m \u001b[0;36m1\u001b[0m\u001b[0;34m\u001b[0m\u001b[0;34m\u001b[0m\u001b[0m\n\u001b[1;32m     87\u001b[0m \u001b[0;34m\u001b[0m\u001b[0m\n\u001b[0;32m---> 88\u001b[0;31m         \u001b[0mq_value\u001b[0m \u001b[0;34m=\u001b[0m \u001b[0mself\u001b[0m\u001b[0;34m.\u001b[0m\u001b[0mget_fee\u001b[0m\u001b[0;34m(\u001b[0m\u001b[0mself\u001b[0m\u001b[0;34m.\u001b[0m\u001b[0mstate\u001b[0m\u001b[0;34m,\u001b[0m \u001b[0maction\u001b[0m\u001b[0;34m)\u001b[0m\u001b[0;34m\u001b[0m\u001b[0;34m\u001b[0m\u001b[0m\n\u001b[0m\u001b[1;32m     89\u001b[0m         \u001b[0mnext_state\u001b[0m \u001b[0;34m=\u001b[0m \u001b[0mself\u001b[0m\u001b[0;34m.\u001b[0m\u001b[0mget_next_state\u001b[0m\u001b[0;34m(\u001b[0m\u001b[0maction\u001b[0m\u001b[0;34m)\u001b[0m\u001b[0;34m\u001b[0m\u001b[0;34m\u001b[0m\u001b[0m\n\u001b[1;32m     90\u001b[0m         \u001b[0mq_value\u001b[0m \u001b[0;34m=\u001b[0m \u001b[0mq_value\u001b[0m \u001b[0;34m+\u001b[0m \u001b[0mself\u001b[0m\u001b[0;34m.\u001b[0m\u001b[0mget_cost\u001b[0m\u001b[0;34m(\u001b[0m\u001b[0mnext_state\u001b[0m\u001b[0;34m)\u001b[0m\u001b[0;34m\u001b[0m\u001b[0;34m\u001b[0m\u001b[0m\n",
      "\u001b[0;32m<ipython-input-23-d99cef2ad7aa>\u001b[0m in \u001b[0;36mget_fee\u001b[0;34m(self, state, action)\u001b[0m\n\u001b[1;32m    119\u001b[0m     \u001b[0;31m#Dollar per movement\u001b[0m\u001b[0;34m\u001b[0m\u001b[0;34m\u001b[0m\u001b[0;34m\u001b[0m\u001b[0m\n\u001b[1;32m    120\u001b[0m     \u001b[0;32mdef\u001b[0m \u001b[0mget_fee\u001b[0m\u001b[0;34m(\u001b[0m\u001b[0mself\u001b[0m\u001b[0;34m,\u001b[0m \u001b[0mstate\u001b[0m\u001b[0;34m,\u001b[0m \u001b[0maction\u001b[0m\u001b[0;34m)\u001b[0m\u001b[0;34m:\u001b[0m\u001b[0;34m\u001b[0m\u001b[0;34m\u001b[0m\u001b[0m\n\u001b[0;32m--> 121\u001b[0;31m         \u001b[0;32mreturn\u001b[0m \u001b[0;34m(\u001b[0m\u001b[0maction\u001b[0m\u001b[0;34m[\u001b[0m\u001b[0;34m:\u001b[0m\u001b[0;34m,\u001b[0m \u001b[0;34m:\u001b[0m\u001b[0;34m-\u001b[0m\u001b[0;36m1\u001b[0m\u001b[0;34m]\u001b[0m \u001b[0;34m>\u001b[0m \u001b[0;36m0\u001b[0m\u001b[0;34m)\u001b[0m\u001b[0;34m.\u001b[0m\u001b[0msum\u001b[0m\u001b[0;34m(\u001b[0m\u001b[0maxis\u001b[0m\u001b[0;34m=\u001b[0m\u001b[0;34m-\u001b[0m\u001b[0;36m1\u001b[0m\u001b[0;34m)\u001b[0m\u001b[0;34m\u001b[0m\u001b[0;34m\u001b[0m\u001b[0m\n\u001b[0m\u001b[1;32m    122\u001b[0m \u001b[0;34m\u001b[0m\u001b[0m\n\u001b[1;32m    123\u001b[0m     \u001b[0;32mdef\u001b[0m \u001b[0mget_cost\u001b[0m\u001b[0;34m(\u001b[0m\u001b[0mself\u001b[0m\u001b[0;34m,\u001b[0m \u001b[0mnext_state\u001b[0m\u001b[0;34m)\u001b[0m\u001b[0;34m:\u001b[0m\u001b[0;34m\u001b[0m\u001b[0;34m\u001b[0m\u001b[0m\n",
      "\u001b[0;31mTypeError\u001b[0m: list indices must be integers or slices, not tuple"
     ]
    }
   ],
   "source": [
    "INITIAL_AMOUNT = 1000\n",
    "Q_FACTOR_SCALER = 10\n",
    "model.eval()\n",
    "env = Environment(x_test, y_test, simulators, batch_size=1, initial_amount=INITIAL_AMOUNT, max_loss=1)\n",
    "state = env.restart()\n",
    "\n",
    "for epoch in range(x_test[0].shape[0]):\n",
    "    action = actions[state_action_map[np.argmax(state[0])]]\n",
    "    state, q_value, done, step = env.step([action])\n",
    "        \n",
    "    print('Day:{}    Action:{}    Current amount:{}'.format(\n",
    "        step,\n",
    "        pred_action, \n",
    "        state[2]\n",
    "        ), flush=True)\n",
    "\n",
    "    if done:\n",
    "        state = env.restart()\n",
    "        break"
   ]
  },
  {
   "cell_type": "code",
   "execution_count": null,
   "metadata": {},
   "outputs": [],
   "source": []
  },
  {
   "cell_type": "code",
   "execution_count": null,
   "metadata": {},
   "outputs": [],
   "source": []
  }
 ],
 "metadata": {
  "kernelspec": {
   "display_name": "Python 3",
   "language": "python",
   "name": "python3"
  },
  "language_info": {
   "codemirror_mode": {
    "name": "ipython",
    "version": 3
   },
   "file_extension": ".py",
   "mimetype": "text/x-python",
   "name": "python",
   "nbconvert_exporter": "python",
   "pygments_lexer": "ipython3",
   "version": "3.7.7"
  },
  "widgets": {
   "application/vnd.jupyter.widget-state+json": {
    "state": {},
    "version_major": 2,
    "version_minor": 0
   }
  }
 },
 "nbformat": 4,
 "nbformat_minor": 4
}
